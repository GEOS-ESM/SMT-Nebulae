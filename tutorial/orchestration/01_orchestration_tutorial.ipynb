{
 "cells": [
  {
   "cell_type": "markdown",
   "metadata": {},
   "source": [
    "## **Orchestration Tutorial**\n",
    "\n",
    "The following will walk through how to perform Python code orchestration using [DaCe](https://spcldace.readthedocs.io/en/latest/).  DaCe is packaged into the [NDSL middleware](https://github.com/NOAA-GFDL/NDSL).\n",
    "\n",
    "### **Motivation**\n",
    "\n",
    "While we'll attempt to write as much code using GT4Py, there will be moments where a particular algorithm or code pattern does not map well within GT4Py's constraints.  For those moments, we will rely on DaCe to create performate code and integrate it alongside GT4Py code.  "
   ]
  },
  {
   "cell_type": "code",
   "execution_count": null,
   "metadata": {},
   "outputs": [],
   "source": [
    "import numpy as np\n",
    "from gt4py.cartesian.gtscript import (\n",
    "    PARALLEL,\n",
    "    computation,\n",
    "    interval,\n",
    ")\n",
    "from ndsl import (\n",
    "    StencilFactory,\n",
    "    DaceConfig,\n",
    "    orchestrate,\n",
    "    QuantityFactory,\n",
    ")\n",
    "from ndsl.constants import X_DIM, Y_DIM, Z_DIM\n",
    "from ndsl.dsl.typing import FloatField, Float\n",
    "\n",
    "from ndsl_boilerplate import get_one_tile_factory_orchestrated\n",
    "\n",
    "# ----- Stencil code ----- #\n",
    "\n",
    "def weighted_partial_laplacian(\n",
    "    field: FloatField,  # type: ignore\n",
    "    result: FloatField,  # type: ignore\n",
    "    weight: Float,  # type: ignore\n",
    "):\n",
    "    with computation(PARALLEL), interval(...):\n",
    "        result = weight * (\n",
    "            field[1, 0, 0] + field[0, 1, 0] + field[-1, 0, 0] + field[0, -1, 0]\n",
    "        )"
   ]
  }
 ],
 "metadata": {
  "kernelspec": {
   "display_name": "gt4py_jupyter",
   "language": "python",
   "name": "python3"
  },
  "language_info": {
   "name": "python",
   "version": "3.11.7"
  }
 },
 "nbformat": 4,
 "nbformat_minor": 2
}
